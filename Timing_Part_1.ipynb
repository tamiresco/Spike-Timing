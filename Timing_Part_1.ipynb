{
  "nbformat": 4,
  "nbformat_minor": 0,
  "metadata": {
    "colab": {
      "name": "Timing Part 1",
      "provenance": [],
      "collapsed_sections": [
        "7kof5uCsMItA",
        "URoV-ozHQPxp",
        "4V95-0XMReU-",
        "7XoyTnAvF-PX",
        "tnpWvzlpSmIz",
        "gJDS5sG-1Rbj",
        "kxFVwZGN6ajj",
        "4Id6x_2B1jpA"
      ],
      "include_colab_link": true
    },
    "kernelspec": {
      "name": "python3",
      "display_name": "Python 3"
    }
  },
  "cells": [
    {
      "cell_type": "markdown",
      "metadata": {
        "id": "view-in-github",
        "colab_type": "text"
      },
      "source": [
        "<a href=\"https://colab.research.google.com/github/tamiresco/Spike-Timing/blob/master/Timing_Part_1.ipynb\" target=\"_parent\"><img src=\"https://colab.research.google.com/assets/colab-badge.svg\" alt=\"Open In Colab\"/></a>"
      ]
    },
    {
      "cell_type": "markdown",
      "metadata": {
        "id": "URoV-ozHQPxp",
        "colab_type": "text"
      },
      "source": [
        "###Introdução"
      ]
    },
    {
      "cell_type": "markdown",
      "metadata": {
        "id": "t0wKUSi8QW0M",
        "colab_type": "text"
      },
      "source": [
        "* Data Frame 1: Dados (quase) originais\n",
        "* Data Frame 2: Dados organizados por distribuições de intervalos"
      ]
    },
    {
      "cell_type": "markdown",
      "metadata": {
        "id": "coh_UTERPKUo",
        "colab_type": "text"
      },
      "source": [
        "Envirolment setting up"
      ]
    },
    {
      "cell_type": "code",
      "metadata": {
        "id": "bR2wt5g5uZuq",
        "colab_type": "code",
        "colab": {
          "base_uri": "https://localhost:8080/",
          "height": 309
        },
        "outputId": "237a610d-6487-4535-cee4-d05f47e0e2f5"
      },
      "source": [
        "# basicos\n",
        "import numpy as np\n",
        "import pandas as pd\n",
        "import matplotlib.pyplot as plt\n",
        "from scipy import stats\n",
        "\n",
        "# google colab\n",
        "from google.colab import files\n",
        "from google.colab import drive\n",
        "drive.mount('/content/drive/')\n",
        "\n",
        "# codigo reyes\n",
        "!git clone -l -s git://github.com/mbreyes/drrd.git clonedrepo\n",
        "from clonedrepo.python import drrdTools"
      ],
      "execution_count": 2,
      "outputs": [
        {
          "output_type": "stream",
          "text": [
            "Mounted at /content/drive/\n",
            "Cloning into 'clonedrepo'...\n",
            "warning: --local is ignored\n",
            "remote: Enumerating objects: 126, done.\u001b[K\n",
            "remote: Total 126 (delta 0), reused 0 (delta 0), pack-reused 126\u001b[K\n",
            "Receiving objects: 100% (126/126), 122.21 KiB | 15.28 MiB/s, done.\n",
            "Resolving deltas: 100% (44/44), done.\n",
            "Collecting boruta\n",
            "\u001b[?25l  Downloading https://files.pythonhosted.org/packages/b2/11/583f4eac99d802c79af9217e1eff56027742a69e6c866b295cce6a5a8fc2/Boruta-0.3-py3-none-any.whl (56kB)\n",
            "\u001b[K     |████████████████████████████████| 61kB 1.9MB/s \n",
            "\u001b[?25hRequirement already satisfied: numpy>=1.10.4 in /usr/local/lib/python3.6/dist-packages (from boruta) (1.18.5)\n",
            "Requirement already satisfied: scipy>=0.17.0 in /usr/local/lib/python3.6/dist-packages (from boruta) (1.4.1)\n",
            "Requirement already satisfied: scikit-learn>=0.17.1 in /usr/local/lib/python3.6/dist-packages (from boruta) (0.22.2.post1)\n",
            "Requirement already satisfied: joblib>=0.11 in /usr/local/lib/python3.6/dist-packages (from scikit-learn>=0.17.1->boruta) (0.16.0)\n",
            "Installing collected packages: boruta\n",
            "Successfully installed boruta-0.3\n"
          ],
          "name": "stdout"
        }
      ]
    },
    {
      "cell_type": "markdown",
      "metadata": {
        "id": "4V95-0XMReU-",
        "colab_type": "text"
      },
      "source": [
        "### Data Frame 1 - Funções"
      ]
    },
    {
      "cell_type": "code",
      "metadata": {
        "id": "K557FlZipG58",
        "colab_type": "code",
        "colab": {}
      },
      "source": [
        "def readFile (rats, sessions):\n",
        "\n",
        "  # variaveis q armazenaram o nome dos ratos, os dados de cada rato e de qual trial sao esses dados\n",
        "  ratsNumbers = []\n",
        "  ratsData = []\n",
        "  ratsTrials = []\n",
        "  error = []\n",
        "\n",
        "  # armazenando dados de cada rato\n",
        "  for i in rats: \n",
        "    for j in sessions:\n",
        "\n",
        "      try:\n",
        "        df = pd.DataFrame(data= drrdTools.drrd(prefix='AB1',animalID=i,sessions=[j],plotFlag=True, dataPath='/content/drive/My Drive/ratinhos/'))\n",
        "        ratsData.append(df)\n",
        "        trial = 0\n",
        "\n",
        "        # armazenando numero do rato para quando combinar os dados saber quais linhas sao de qual rato\n",
        "        for row in df.iterrows():\n",
        "          ratsNumbers.append(i)\n",
        "          ratsTrials.append(trial)\n",
        "          trial += 1\n",
        "\n",
        "      except: \n",
        "        error.append((i,j))\n",
        "        pass\n",
        "  \n",
        "  return ratsNumbers, ratsData, ratsTrials, error"
      ],
      "execution_count": null,
      "outputs": []
    },
    {
      "cell_type": "code",
      "metadata": {
        "id": "kIVdFi1122l6",
        "colab_type": "code",
        "colab": {}
      },
      "source": [
        "def createDataFrame1 (rats, sessions):\n",
        "\n",
        "  ratsNumbers, ratsData, ratsTrials, error = readFile(rats, sessions)\n",
        "\n",
        "  # juntando os dados de cada rato em um data frame só\n",
        "  dataFrame1 = pd.concat(ratsData)\n",
        "\n",
        "  # dando nome as colunas\n",
        "  columns = ['press', 'notPress', 'success', 'valid', 'target', 'session'] \n",
        "  dataFrame1.columns = columns\n",
        "\n",
        "  # adicionando a coluna do numero do rato e numero do trial\n",
        "  dataFrame1['rat'] = ratsNumbers\n",
        "  dataFrame1['trial'] = ratsTrials\n",
        "\n",
        "  return dataFrame1, error\n",
        "\n",
        "def createStructureDataFrame2 (dataFrame1):\n",
        "\n",
        "  # para criar o segundo data frame:\n",
        "  # selecionando os primeiros trials para depois retirarmos todas as linhas que não sao do primeiro trial e termos só a sessão\n",
        "  indexFirstTrial = dataFrame1[ dataFrame1['trial'] != 0 ].index\n",
        "  dataFrame2 = dataFrame1.drop(indexFirstTrial)\n",
        "\n",
        "  # no data frame 2 retiramos as colunas 'press', 'notPress', 'sucess', 'valid' e tbm fazendo a transformação para indexadores\n",
        "  dataFrame2.drop(['press', 'notPress', 'success', 'valid', 'trial','target' ], axis=1, inplace = True)\n",
        "  dataFrame2.set_index(['rat', 'session'], inplace = True) \n",
        "\n",
        "  return dataFrame2\n",
        "\n",
        "def cleanDataFrame1(dataFrame1): \n",
        "\n",
        "  # Agora podemos tirar no data frame 1 os invalidos e colocar os ratos, sessoes e trials como idexadores ao inves de colunas\n",
        "  dataFrame1.drop(dataFrame1[dataFrame1.valid == 0].index, inplace=True)\n",
        "  dataFrame1.set_index(['rat', 'session', 'trial'], inplace = True) \n",
        "  dataFrame1.drop(['valid', 'target'], axis=1, inplace = True)\n",
        "\n",
        "  # retirando NaN\n",
        "  # TODO rever a abrangencia do intervalo ao tirar uma linha que possivelmente ditaria o fim de um intervalo\n",
        "  # Posso substituir o NaN pela media ao inves tbm\n",
        "  dataFrame1.dropna(how='any', inplace=True)\n",
        "  \n",
        "  # TODO retirar outliers (tem dois jeitos: tradicional z-score ou sklearn.ensemble IsolationForest)\n"
      ],
      "execution_count": null,
      "outputs": []
    },
    {
      "cell_type": "markdown",
      "metadata": {
        "id": "7XoyTnAvF-PX",
        "colab_type": "text"
      },
      "source": [
        "\n",
        "\n",
        "\n",
        "### Data Frame 2 - Funções\n"
      ]
    },
    {
      "cell_type": "code",
      "metadata": {
        "id": "A5ql-Xl4-0H9",
        "colab_type": "code",
        "colab": {}
      },
      "source": [
        "def distribuitions(dataFrame1, dataFrame2):\n",
        "  ''' As distribuições usuais sao: de duracao das respostas (T) e as do intervalos entre respostas (ITI). \n",
        "      Alem delas distribuicoes de outros intervalos, como a duração apenas das respostas certas. \n",
        "      Abaixo, nos comentarios tem as definicoes dos outros tipos de intervalos.\n",
        "      Lembrar que o intervalo é do tipo [a;b[, i.e., o  primeiro elemento do intervalo é incluido e o ultimo nao. '''\n",
        "\n",
        "  init = [[] for i in range(len(sessions) * len(rats))] #index de ratos * sessoes\n",
        "\n",
        "  # Distribuições com numero de itens igual ao numero de trials\n",
        "  T = [] # intervalos de duracao das respostas\n",
        "  ITI = [] # intervalos entre respostas \n",
        "\n",
        "  # Distribuições com numero de itens igual ao numero de trials corretos\n",
        "  A = [] # intervalos de duracao das respostas certas\n",
        "  B = init # intervalos entre resposta certa e resposta certa \n",
        "  C = init # intervalos entre resposta certa e qualquer resposta = intervalos entre recompensa e qualquer resposta\n",
        "  D = init # intervalos entre recompensa e recompensa = intervalos entre resposta certa e recompensa\n",
        "\n",
        "  # Distribuições com numero de itens igual ao numero de trials incorretos\n",
        "  E = [] # intervalos de duracao das respostas erradas\n",
        "  F = init # intervalos entre resposta errada e resposta errada \n",
        "  G = init # intervalos entre resposta errada e qualquer resposta\n",
        "\n",
        "  # Demais distribuições\n",
        "  H = init # intervalos entre resposta certa e resposta errada\n",
        "  I = init # intervalos entre resposta errada e resposta certa \n",
        "  J = init # intervalos entre resposta errada e recompensa\n",
        "\n",
        "  # esse loop é com o dataFrame2, q so tem ratos e sessoes no index, pq queremos a distribuicao de cada sessao de cada rato\n",
        "  for i, rows in dataFrame2.iterrows():\n",
        "\n",
        "    # pega todos os trials dessa sessao e desse rato criando um vetor p eles q é adcionado nas variaveis T, ITI, A e E\n",
        "    # so fazems esses 4 tipos de intervalo agora pq os outros demandam outro tipo de loop\n",
        "    T.append(dataFrame1.at[(i[0],i[1]),'press']) \n",
        "    ITI.append(dataFrame1.at[(i[0],i[1]),'notPress']) \n",
        "    A.append(dataFrame1[dataFrame1['success'] == 1].at[(i[0],i[1]),'press'])\n",
        "    E.append(dataFrame1[dataFrame1['success'] != 1].at[(i[0],i[1]),'press'])\n",
        "    \n",
        "  return T, ITI, A, B, C, D, E, F, G, H, I, J\n"
      ],
      "execution_count": null,
      "outputs": []
    },
    {
      "cell_type": "code",
      "metadata": {
        "id": "gjASbhNmALiI",
        "colab_type": "code",
        "colab": {}
      },
      "source": [
        "def addColumns(dataFrame1, dataFrame2):\n",
        "  ''' Adiciona ao data frame 2 como colunas as distribuicoes de intervalos das sessoes'''\n",
        "\n",
        "  T, ITI, A, B, C, D, E, F, G, H, I, J = distribuitions(dataFrame1, dataFrame2)\n",
        "\n",
        "  dataFrame2['T'] = T\n",
        "  dataFrame2['ITI'] = ITI\n",
        "  dataFrame2['A'] = A\n",
        "  dataFrame2['B'] = B\n",
        "  dataFrame2['C'] = C\n",
        "  dataFrame2['D'] = D\n",
        "  dataFrame2['F'] = F\n",
        "  dataFrame2['E'] = E\n",
        "  dataFrame2['G'] = G\n",
        "  dataFrame2['H'] = H\n",
        "  dataFrame2['I'] = I\n",
        "  dataFrame2['J'] = J\n",
        "\n",
        "  init = [0 for i in range(len(sessions) * len(rats))]\n",
        "  dataFrame2['success'] = init\n",
        "  dataFrame2['fail'] = init\n",
        "  dataFrame2['rate success'] = init\n",
        "\n",
        "  return dataFrame2"
      ],
      "execution_count": null,
      "outputs": []
    },
    {
      "cell_type": "code",
      "metadata": {
        "id": "PuekG3WcQXli",
        "colab_type": "code",
        "colab": {}
      },
      "source": [
        "def createAndAddData (dataFrame1, dataFrame2):\n",
        "  ''' Gera os tipos de Intervalos e os adciona em suas respectivas distribuicoes, q são as colunas do dataFrame2 '''\n",
        "\n",
        "  # criando variaveis que gauardaram o tempo de uma seuquencia de sucesso ou fracasso\n",
        "  successSequence = 0; failSequence = 0\n",
        "\n",
        "  # ja nesse loop usamos dataFrame1 q tem trials no index, pq a variaveis variam de acordo com os trials\n",
        "  for i, rows in dataFrame1.iterrows():\n",
        "    \n",
        "    # esse ele acertou\n",
        "    if dataFrame1.at[(i[0],i[1],i[2]),'success'] == 1:\n",
        "  \n",
        "      dataFrame2.loc[(i[0],i[1]),'success'] = dataFrame2.loc[(i[0],i[1]),'success'] + 1 # numero de successo por sessoes\n",
        "\n",
        "      # é o primeiro trial valido\n",
        "      if i[2] == min(dataFrame1.loc[(i[0],i[1])].index):     \n",
        "        successSequence = successSequence + dataFrame1.at[(i[0],i[1],i[2]),'press'] + dataFrame1.at[(i[0],i[1],i[2]),'notPress']\n",
        "\n",
        "      # é um dos trials seguintes ao primeiro valido\n",
        "      else:\n",
        "        # e o anterior ele acertou tbm\n",
        "        if dataFrame1.at[(i[0],i[1],(i[2]-1)),'success'] == 1:\n",
        "          dataFrame2.loc[(i[0],i[1]),'C'].append(dataFrame1.at[(i[0],i[1],(i[2]-1)),'notPress'])     \n",
        "          successSequence = successSequence + dataFrame1.at[(i[0],i[1],i[2]),'press'] + dataFrame1.at[(i[0],i[1],i[2]),'notPress']\n",
        "\n",
        "        # mas o anaterior ele errou\n",
        "        else: \n",
        "          dataFrame2.loc[(i[0],i[1]),'B'].append(successSequence)\n",
        "          dataFrame2.loc[(i[0],i[1]),'D'].append(successSequence +dataFrame1.at[(i[0],i[1],i[2]),'press'])\n",
        "          dataFrame2.loc[(i[0],i[1]),'G'].append(dataFrame1.at[(i[0],i[1],(i[2]-1)),'notPress'])\n",
        "          dataFrame2.loc[(i[0],i[1]),'I'].append(dataFrame1.at[(i[0],i[1],(i[2]-1)),'notPress'])\n",
        "          successSequence = 0\n",
        "\n",
        "    # esse ele errou\n",
        "    else:\n",
        "\n",
        "      dataFrame2.loc[(i[0],i[1]),'fail'] = dataFrame2.loc[(i[0],i[1]),'fail'] + 1 # numero de fracasso por sessoes\n",
        "\n",
        "      # é o primeiro trial valido\n",
        "      if i[2] == min(dataFrame1.loc[(i[0],i[1])].index):     \n",
        "        failSequence = failSequence + dataFrame1.at[(i[0],i[1],i[2]),'press'] + dataFrame1.at[(i[0],i[1],i[2]),'notPress'] \n",
        "\n",
        "      # é um dos trials seguintes ao primeiro valido\n",
        "      else:       \n",
        "        # e o anterior ele errou tbm    \n",
        "        if dataFrame1.at[(i[0],i[1],(i[2]-1)),'success'] != 1:\n",
        "          dataFrame2.loc[(i[0],i[1]),'G'].append(dataFrame1.at[(i[0],i[1],(i[2]-1)),'notPress'])      \n",
        "          failSequence = failSequence + dataFrame1.at[(i[0],i[1],i[2]),'press'] + dataFrame1.at[(i[0],i[1],i[2]),'notPress'] \n",
        "\n",
        "        # mas o anterior ele acertou\n",
        "        else: \n",
        "          dataFrame2.loc[(i[0],i[1]),'F'].append(failSequence)\n",
        "          dataFrame2.loc[(i[0],i[1]),'J'].append(failSequence + dataFrame1.at[(i[0],i[1],i[2]),'press'])\n",
        "          dataFrame2.loc[(i[0],i[1]),'C'].append(dataFrame1.at[(i[0],i[1],(i[2]-1)),'notPress'])     \n",
        "          dataFrame2.loc[(i[0],i[1]),'H'].append(dataFrame1.at[(i[0],i[1],(i[2]-1)),'notPress'])\n",
        "          failSequence = 0\n",
        "\n",
        "    dataFrame2.loc[(i[0],i[1]),'rate success'] = dataFrame2.loc[(i[0],i[1]),'success'] / ( dataFrame2.loc[(i[0],i[1]),'fail'] + dataFrame2.loc[(i[0],i[1]),'success'] ) \n",
        "\n",
        "  return dataFrame2"
      ],
      "execution_count": null,
      "outputs": []
    },
    {
      "cell_type": "code",
      "metadata": {
        "id": "OtE15YS3BD-Y",
        "colab_type": "code",
        "colab": {}
      },
      "source": [
        "def alterIndex (df):\n",
        "  '''Adiciona mais uma camada de index e de nomes de colunas. Isso sera necessarios para a função Plots'''\n",
        "\n",
        "  # pegando so o trecho do dataframe q é desse rato\n",
        "  # df = df.loc(axis=0)[[rat], :]\n",
        "\n",
        "  # ascrecentando index de 1 a 30 \n",
        "  df['n'] = range(0,len(df))\n",
        "  df.set_index(['n'], append=True, inplace = True)\n",
        "\n",
        "  # ascrecentando nome das colunas de '1' a '12' \n",
        "  x = [str(i) for i in np.array(range(len(df.columns)))] # criando o index das colunas novo\n",
        "  array = [df.columns, x] # unindo o index das colunas novo ao antigo\n",
        "  df.columns = pd.MultiIndex.from_arrays(array) # fazendo a duas camadas de index das colunas \n",
        "\n",
        "def plots(df, dt = 0.1, bw_method = 'scott'):\n",
        "\n",
        "  alterIndex(df)\n",
        "\n",
        "  # inicializando a estrutura dos subplots\n",
        "  cols = len(df.columns)\n",
        "  rows = len(df.index)\n",
        "  fig = plt.figure(figsize=[3*cols, 5*rows] , constrained_layout=True, clear=True, dpi = 200)\n",
        "  gs = fig.add_gridspec(cols,rows)\n",
        "\n",
        "  for i in df.index:\n",
        "     for j in df.columns: \n",
        "\n",
        "       grid, pdf = kernelDensityEstimation(df.loc[i,j], dt, bw_method)\n",
        "       fig.add_subplot(gs[int(j[1]), i[2]]).plot(grid, pdf) #plotar o grafico, o grid definirá o eixo x e o pdf o eixo y\n",
        "       fig.add_subplot(gs[int(j[1]), i[2]]).set_title('Rat: ' + str(i[0]) + ' - Session: '+ str(i[1]) + ' - Interval: ' + str(j[0]) + '\\n') \n",
        "  \n",
        "  plt.savefig('ratinhos.png')"
      ],
      "execution_count": null,
      "outputs": []
    },
    {
      "cell_type": "markdown",
      "metadata": {
        "id": "7kof5uCsMItA",
        "colab_type": "text"
      },
      "source": [
        "### Criar arquivos para download"
      ]
    },
    {
      "cell_type": "markdown",
      "metadata": {
        "id": "9vTuTf0saahj",
        "colab_type": "text"
      },
      "source": [
        "dataframe1"
      ]
    },
    {
      "cell_type": "code",
      "metadata": {
        "id": "geMzL0-bAuSj",
        "colab_type": "code",
        "colab": {}
      },
      "source": [
        "# transformando em csv por partes e baixando-as\n",
        "dataFrame1.to_csv('dataFrame1_50_75.csv')\n",
        "files.download('dataFrame1_50_75.csv')\n",
        "\n",
        "# unindo as csv em um data frame\n",
        "frames = [pd.read_csv('dataFrame1_10_50.csv'), pd.read_csv('dataFrame1_50_75.csv')]\n",
        "dataFrame1 = pd.concat(frames)\n",
        "\n",
        "# transformando em csv de novo e baixando-o\n",
        "dataFrame1.to_csv('dataFrame1.csv')\n",
        "files.download('dataFrame1.csv')"
      ],
      "execution_count": null,
      "outputs": []
    },
    {
      "cell_type": "markdown",
      "metadata": {
        "id": "sYipvFjYadfP",
        "colab_type": "text"
      },
      "source": [
        "dataframe2"
      ]
    },
    {
      "cell_type": "code",
      "metadata": {
        "id": "_S9uCyRNaX_S",
        "colab_type": "code",
        "colab": {}
      },
      "source": [
        "min_rats = 10\n",
        "max_rats = 75\n",
        "size_groups = 5\n",
        "\n",
        "rats_groups = [range(i,i+size_groups) for i in range(min_rats, max_rats, size_groups)] \n",
        "sessions = range(1,7)\n",
        "\n",
        "i=0\n",
        "\n",
        "for rats in rats_groups:\n",
        "\n",
        "  # construindo o dataframe1\n",
        "  dataFrame1, error = createDataFrame1(rats, sessions)\n",
        "  dataFrame2 = createStructureDataFrame2(dataFrame1)\n",
        "  cleanDataFrame1(dataFrame1)\n",
        "  error\n",
        "\n",
        "  # construindo o dataframe2\n",
        "  dataFrame2 = addColumns (dataFrame1, dataFrame2)\n",
        "  dataFrame2 = createAndAddData (dataFrame1, dataFrame2)\n",
        "\n",
        "  # transformando em csv por partes e baixando-as\n",
        "  dataFrame2.to_csv('dataFrame2_'+ str(i) +'.csv')\n",
        "  i = i+1"
      ],
      "execution_count": null,
      "outputs": []
    }
  ]
}