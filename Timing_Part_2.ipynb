{
  "nbformat": 4,
  "nbformat_minor": 0,
  "metadata": {
    "colab": {
      "name": "Timing Part 2.ipynb",
      "provenance": [],
      "toc_visible": true,
      "authorship_tag": "ABX9TyOg0CgfqR19j1WuStKKqi2O",
      "include_colab_link": true
    },
    "kernelspec": {
      "name": "python3",
      "display_name": "Python 3"
    }
  },
  "cells": [
    {
      "cell_type": "markdown",
      "metadata": {
        "id": "view-in-github",
        "colab_type": "text"
      },
      "source": [
        "<a href=\"https://colab.research.google.com/github/tamiresco/Spike-Timing/blob/master/Timing_Part_2.ipynb\" target=\"_parent\"><img src=\"https://colab.research.google.com/assets/colab-badge.svg\" alt=\"Open In Colab\"/></a>"
      ]
    },
    {
      "cell_type": "markdown",
      "metadata": {
        "id": "xxy5Chlxzreb",
        "colab_type": "text"
      },
      "source": [
        "###Introdução"
      ]
    },
    {
      "cell_type": "markdown",
      "metadata": {
        "id": "HR6CvBy_1-kQ",
        "colab_type": "text"
      },
      "source": [
        "* Feature Selection: teste de hipotese em cada feature\n",
        "* Modelo: Com os atributos das distribuições da sessao 1 e 2(?) preveremos quando a porcentagem de acerto dos ratos na sessao 7(?)"
      ]
    },
    {
      "cell_type": "markdown",
      "metadata": {
        "id": "Eo7eMb_X2Yga",
        "colab_type": "text"
      },
      "source": [
        "Envirolment setting up"
      ]
    },
    {
      "cell_type": "code",
      "metadata": {
        "id": "xk-3pZpUz8xi",
        "colab_type": "code",
        "colab": {
          "base_uri": "https://localhost:8080/",
          "height": 122
        },
        "outputId": "961ebca0-c3a0-40ec-8b4b-bb180d85d0ca"
      },
      "source": [
        "# basicos\n",
        "import numpy as np\n",
        "import pandas as pd\n",
        "import matplotlib.pyplot as plt\n",
        "# import dask as dask\n",
        "from scipy import stats\n",
        "\n",
        "# google colab\n",
        "from google.colab import files\n",
        "\n",
        "# feature selection\n",
        "!pip install boruta\n",
        "from sklearn.ensemble import RandomForestClassifier\n",
        "from boruta import BorutaPy\n",
        "from sklearn.feature_selection import SelectKBest, f_classif\n",
        "from sklearn.preprocessing import StandardScaler\n",
        "\n",
        "# model selection\n",
        "from sklearn.model_selection import train_test_split, cross_val_score, KFold\n",
        "from sklearn.metrics import r2_score, mean_absolute_error\n",
        "\n",
        "# model\n",
        "import xgboost as xgb"
      ],
      "execution_count": 19,
      "outputs": [
        {
          "output_type": "stream",
          "text": [
            "Requirement already satisfied: boruta in /usr/local/lib/python3.6/dist-packages (0.3)\n",
            "Requirement already satisfied: numpy>=1.10.4 in /usr/local/lib/python3.6/dist-packages (from boruta) (1.18.5)\n",
            "Requirement already satisfied: scikit-learn>=0.17.1 in /usr/local/lib/python3.6/dist-packages (from boruta) (0.22.2.post1)\n",
            "Requirement already satisfied: scipy>=0.17.0 in /usr/local/lib/python3.6/dist-packages (from boruta) (1.4.1)\n",
            "Requirement already satisfied: joblib>=0.11 in /usr/local/lib/python3.6/dist-packages (from scikit-learn>=0.17.1->boruta) (0.16.0)\n"
          ],
          "name": "stdout"
        }
      ]
    },
    {
      "cell_type": "markdown",
      "metadata": {
        "id": "B8IX7gV25CPs",
        "colab_type": "text"
      },
      "source": [
        "Opening file"
      ]
    },
    {
      "cell_type": "code",
      "metadata": {
        "id": "xk-3VDF9M2Sa",
        "colab_type": "code",
        "colab": {}
      },
      "source": [
        "dataFrame3 = pd.read_csv('dataFrame3.csv')#, index_col=['rat'])#.drop(columns=['rat'])\n",
        "y_append = pd.read_csv('y_append.cvs')#, index_col=['rat'])#.drop(columns=['rat','session'])"
      ],
      "execution_count": 20,
      "outputs": []
    },
    {
      "cell_type": "markdown",
      "metadata": {
        "id": "Ji37j8OYYLiu",
        "colab_type": "text"
      },
      "source": [
        "### Preprocessing"
      ]
    },
    {
      "cell_type": "code",
      "metadata": {
        "id": "X7rj3NHQ5NK8",
        "colab_type": "code",
        "colab": {}
      },
      "source": [
        "scaler = StandardScaler()"
      ],
      "execution_count": 21,
      "outputs": []
    },
    {
      "cell_type": "code",
      "metadata": {
        "id": "QyygD89dni1-",
        "colab_type": "code",
        "colab": {}
      },
      "source": [
        "y_append.drop(index=[57,58], inplace=True)\n",
        "y_append.drop(columns=['session', 'rat'], inplace=True)\n",
        "\n",
        "scaler.fit(y)\n",
        "y = scaler.transform(y)\n",
        "\n",
        "y = pd.DataFrame(y).apply(lambda x: 100*round(x,2)).astype('int32')\n",
        "y = np.array(y)"
      ],
      "execution_count": 22,
      "outputs": []
    },
    {
      "cell_type": "code",
      "metadata": {
        "id": "oPwGGZV5M8fv",
        "colab_type": "code",
        "colab": {}
      },
      "source": [
        "dataFrame3.drop(index=[15,16,17,18,19], inplace=True)\n",
        "dataFrame3.reset_index(inplace=True)\n",
        "dataFrame3.drop(columns=['index', 'rat'], inplace=True)\n",
        "\n",
        "scaler.fit(X)\n",
        "X = scaler.transform(X)\n",
        "\n",
        "X = pd.DataFrame(X).applymap(lambda x: 100*round(x,2)).astype('int32') #multiplicando por 100, arredondando e definindo como inteiro: 0.453 = 45 \n",
        "X = np.array(X) #transformando em np array pq o boruta pede isso"
      ],
      "execution_count": 23,
      "outputs": []
    },
    {
      "cell_type": "markdown",
      "metadata": {
        "id": "dcnU2CjS0MYW",
        "colab_type": "text"
      },
      "source": [
        "### Feature Selection"
      ]
    },
    {
      "cell_type": "code",
      "metadata": {
        "id": "bG-tNAYe0PqW",
        "colab_type": "code",
        "colab": {}
      },
      "source": [
        "#Iniciando funcoes \n",
        "rfc = RandomForestClassifier(n_estimators=200, n_jobs=-1, class_weight= 'balanced_subsample' , max_depth=10) \n",
        "boruta_selector = BorutaPy(rfc, n_estimators='auto', verbose=2, random_state=1, max_iter = 50, perc = 90) #TO DO entender melhor \n",
        "\n",
        "#aplicando-as aos dados\n",
        "boruta_selector.fit(X, y)\n",
        "\n",
        "#colunas aprovadas\n",
        "# X.columns[boruta.support_]\n",
        "# X.columns[boruta.upport_weak_]\n",
        "\n",
        "#Novo X\n",
        "# X = X.columns[boruta.support_]"
      ],
      "execution_count": null,
      "outputs": []
    },
    {
      "cell_type": "markdown",
      "metadata": {
        "id": "a3S4ars30hGp",
        "colab_type": "text"
      },
      "source": [
        "### Model"
      ]
    },
    {
      "cell_type": "markdown",
      "metadata": {
        "id": "JdL9QOUz0lgM",
        "colab_type": "text"
      },
      "source": [
        "Treino"
      ]
    },
    {
      "cell_type": "code",
      "metadata": {
        "id": "2nhqzDTQ0lNs",
        "colab_type": "code",
        "colab": {
          "base_uri": "https://localhost:8080/",
          "height": 34
        },
        "outputId": "802a2611-bb03-4d03-d075-4259373a55e5"
      },
      "source": [
        "# separando os dados de treino e teste\n",
        "X_train, X_test, y_train, y_test = train_test_split(X, y, test_size=0.15)\n",
        "\n",
        "# treinando regressor\n",
        "xgbr = xgb.XGBRegressor(verbosity=0)  # (?) (n_estimators=1000, learning_rate=0.05, n_jobs=4)\n",
        "xgbr.fit(X_train, y_train) # (?) (X_train, y_train, early_stopping_rounds=5, eval_set=[(X_valid, y_valid)], verbose=False) \n",
        "score = xgbr.score(X_train, y_train)   \n",
        "print(\"Training score: \", score) "
      ],
      "execution_count": 9,
      "outputs": [
        {
          "output_type": "stream",
          "text": [
            "Training score:  0.9949422884411839\n"
          ],
          "name": "stdout"
        }
      ]
    },
    {
      "cell_type": "markdown",
      "metadata": {
        "id": "sDmtgLv10k5p",
        "colab_type": "text"
      },
      "source": [
        "Validação \n",
        "*   *The goal of cross-validation is to test the model's ability to predict new data that was not used in estimating it, in order to flag problems like overfitting or selection bias and to give an insight on how the model will generalize to an independent dataset (i.e., an unknown dataset, for instance from a real problem).*"
      ]
    },
    {
      "cell_type": "code",
      "metadata": {
        "id": "Q3VAckQS0kmC",
        "colab_type": "code",
        "colab": {
          "base_uri": "https://localhost:8080/",
          "height": 68
        },
        "outputId": "16e3669f-cf64-471c-84d5-d788f6b03a10"
      },
      "source": [
        "# cross validataion com cv = 5 e cv = Kfold (para comparar)\n",
        "scores = cross_val_score(xgbr, X_train, y_train, cv=5, scoring = \"neg_mean_absolute_error\")\n",
        "print(\"Mean cross-validation score: %.2f\" % scores.mean())\n",
        "\n",
        "kfold = KFold(n_splits=10, shuffle=True)\n",
        "kf_cv_scores = cross_val_score(xgbr, X_train, y_train, cv=kfold , scoring = \"neg_mean_absolute_error\")\n",
        "print(\"Kfold CV average score: %.2f\" % kf_cv_scores.mean())"
      ],
      "execution_count": 21,
      "outputs": [
        {
          "output_type": "execute_result",
          "data": {
            "text/plain": [
              "array([ -9.38846741, -11.011203  , -11.81577225,  -4.84244995,\n",
              "        -6.03832092, -10.94163742,  -7.91245346, -12.78656616,\n",
              "        -8.05264091,  -9.91033554])"
            ]
          },
          "metadata": {
            "tags": []
          },
          "execution_count": 21
        }
      ]
    },
    {
      "cell_type": "markdown",
      "metadata": {
        "id": "HqmsPdla0kUD",
        "colab_type": "text"
      },
      "source": [
        "Teste"
      ]
    },
    {
      "cell_type": "code",
      "metadata": {
        "id": "WT4_v-MP0j5t",
        "colab_type": "code",
        "colab": {
          "base_uri": "https://localhost:8080/",
          "height": 299
        },
        "outputId": "8655cd8f-a776-4044-d6c0-49719333da9d"
      },
      "source": [
        "# testando regressor\n",
        "y_pred = xgbr.predict(X_test) # (?) nao deveria fazer com um X_valid ate eu ter certeza q é a ultima alteracao q estou fazendo no modelo\n",
        "r2 = r2_score(y_test, y_pred)\n",
        "print(\"r2: %.2f\" % r2)\n",
        "print(\"r2: %.2f\" % (r2*(1/2.0)))\n",
        "\n",
        "# graficos\n",
        "x_ax = range(len(y_test))\n",
        "plt.scatter(x_ax, y_test, s=5, color=\"blue\", label=\"original\")\n",
        "plt.plot(x_ax, y_pred, lw=0.8, color=\"red\", label=\"predicted\")\n",
        "plt.legend()\n",
        "plt.show()"
      ],
      "execution_count": 17,
      "outputs": [
        {
          "output_type": "stream",
          "text": [
            "r2: -0.13\n",
            "r2: -0.06\n"
          ],
          "name": "stdout"
        },
        {
          "output_type": "display_data",
          "data": {
            "image/png": "[encoded data removed]",
            "text/plain": [
              "<Figure size 432x288 with 1 Axes>"
            ]
          },
          "metadata": {
            "tags": [],
            "needs_background": "light"
          }
        }
      ]
    },
    {
      "cell_type": "markdown",
      "metadata": {
        "id": "cI_rFOzK0jo1",
        "colab_type": "text"
      },
      "source": [
        "Rascunho"
      ]
    },
    {
      "cell_type": "code",
      "metadata": {
        "id": "h0MxUTG10w-W",
        "colab_type": "code",
        "colab": {}
      },
      "source": [
        "  # def cross_validation (model, X, y, cv=5, n_jobs=4, scoring='r2'):\n",
        "\n",
        "#   X, X_week = boruta(X, y)\n",
        "#   score = cross_val_score(model, X, y, cv=cv, n_jobs=n_jobs, scoring=scoring)\n",
        "\n",
        "#   print(\"Individuals scores: \", scores())\n",
        "#   print(\"Average scores: \", scores.mean())"
      ],
      "execution_count": null,
      "outputs": []
    }
  ]
}